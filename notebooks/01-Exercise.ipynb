{
 "cells": [
  {
   "cell_type": "markdown",
   "metadata": {},
   "source": [
    "## Exercise"
   ]
  },
  {
   "cell_type": "markdown",
   "metadata": {},
   "source": [
    "1. Create 5 list comprehensions to solve the following 5 problems:\n",
    "  1. Iterate a list of names to return a list of the names starting with H\n",
    "  2. In one line create a list of the numbers 1-100 to the power of 3\n",
    "  3. Iterate a list of names to create a list of tuples where the tuples first value is the length of the name and the second is the name\n",
    "  4. Iterate over each character in a string and get only those that are nummeric\n",
    "  5. Using only a list comprehension wrapped in set() get all possible combinations from throwing 2 dice (hint use 2 for loops in a single list comprehension). Result should look like: [2,3,4,5,6,7,8,...] or a more complex/accurate solution: [(1,1),(1,2)...] in a way that (1,2) is equal to (2,1). \n",
    "\n",
    "2. Create 2 dictionary comprehensions to solve the following:\n",
    "  1. Iterate a list of names and create a dictionary where key is the name and value is the length of the name\n",
    "  2. Iterate a list of numbers and create a dictionary with {key:value} being {number:squareroot_of_number}\n",
    "\n",
    "3. Extra assignment (This one goes beyond what is covered in the course notebooks. So only do it if you want an extra challenge).\n",
    "  - Progammatically using loops create a small program to produce a dictionary with all the 2 dice throw combinations as keys (eg: 2,3,4...etc) and their likelyhood in percent as values"
   ]
  },
  {
   "cell_type": "code",
   "execution_count": 53,
   "metadata": {},
   "outputs": [
    {
     "name": "stdout",
     "output_type": "stream",
     "text": [
      "Hans\n",
      "Henry\n",
      "names_comp:  ['Hans', 'Henry']\n"
     ]
    }
   ],
   "source": [
    "# 1.A\n",
    "\n",
    "names = [\"Leo\", \"Laura\", \"Hans\", \"Grete\", \"Henry\"]\n",
    "\n",
    "for x in names:\n",
    "    if \"H\" in x:\n",
    "        print(x)\n",
    "\n",
    "names_comp = [i for i in names if \"H\" in i]\n",
    "print(\"names_comp: \",names_comp)\n",
    "\n",
    "\n"
   ]
  },
  {
   "cell_type": "code",
   "execution_count": 2,
   "metadata": {},
   "outputs": [
    {
     "name": "stdout",
     "output_type": "stream",
     "text": [
      "[1, 8, 27, 64, 125, 216, 343, 512, 729, 1000, 1331, 1728, 2197, 2744, 3375, 4096, 4913, 5832, 6859, 8000, 9261, 10648, 12167, 13824, 15625, 17576, 19683, 21952, 24389, 27000, 29791, 32768, 35937, 39304, 42875, 46656, 50653, 54872, 59319, 64000, 68921, 74088, 79507, 85184, 91125, 97336, 103823, 110592, 117649, 125000, 132651, 140608, 148877, 157464, 166375, 175616, 185193, 195112, 205379, 216000, 226981, 238328, 250047, 262144, 274625, 287496, 300763, 314432, 328509, 343000, 357911, 373248, 389017, 405224, 421875, 438976, 456533, 474552, 493039, 512000, 531441, 551368, 571787, 592704, 614125, 636056, 658503, 681472, 704969, 729000, 753571, 778688, 804357, 830584, 857375, 884736, 912673, 941192, 970299, 1000000]\n"
     ]
    }
   ],
   "source": [
    "# 1.B\n",
    "\n",
    "numbersPoweredBy3 = [i**3 for i in range(1,101)]\n",
    "print(numbersPoweredBy3)"
   ]
  },
  {
   "cell_type": "code",
   "execution_count": 51,
   "metadata": {},
   "outputs": [
    {
     "name": "stdout",
     "output_type": "stream",
     "text": [
      "[(3, 'Leo'), (5, 'Laura'), (4, 'Hans'), (5, 'Grete'), (5, 'Henry')]\n"
     ]
    }
   ],
   "source": [
    "# 1.C\n",
    "\n",
    "names_tuple = {\"Leo\",\"Laura\",\"Hans\",\"Grete\",\"Henry\"}\n",
    "names_tuple = [(len(name),name) for name in names] \n",
    "print(names_tuple)"
   ]
  },
  {
   "cell_type": "code",
   "execution_count": 57,
   "metadata": {},
   "outputs": [
    {
     "name": "stdout",
     "output_type": "stream",
     "text": [
      "['2', '2', '3', '2', '9']\n"
     ]
    }
   ],
   "source": [
    "# 1.D\n",
    "\n",
    "my_str = \"n2k23knm2ksdii9\"\n",
    "dig_list = [i for i in my_str if i.isdigit()]\n",
    "\n",
    "print(dig_list)"
   ]
  },
  {
   "cell_type": "code",
   "execution_count": 3,
   "metadata": {},
   "outputs": [
    {
     "name": "stdout",
     "output_type": "stream",
     "text": [
      "{(4, 3), (3, 1), (5, 4), (5, 1), (2, 2), (6, 2), (6, 5), (4, 2), (3, 3), (5, 3), (2, 1), (6, 1), (6, 4), (3, 2), (4, 1), (5, 2), (4, 4), (5, 5), (1, 1), (6, 6), (6, 3)}\n"
     ]
    }
   ],
   "source": [
    "# 1.E\n",
    "\n",
    "dice_rolls = set([(i,x) for i in range(1,7) for x in range(1,7) if not i < x])\n",
    "\n",
    "print(dice_rolls)"
   ]
  },
  {
   "cell_type": "code",
   "execution_count": 88,
   "metadata": {},
   "outputs": [
    {
     "name": "stdout",
     "output_type": "stream",
     "text": [
      "{'Leo': 3, 'Laura': 5, 'Hans': 4, 'Grete': 5, 'Henry': 5}\n",
      "3\n"
     ]
    }
   ],
   "source": [
    "# 2.A\n",
    "\n",
    "names = (\"Leo\",\"Laura\",\"Hans\",\"Grete\",\"Henry\")\n",
    "name_len = {i:len(i) for i in names}\n",
    "\n",
    "print(name_len)\n",
    "print(name_len[\"Leo\"])"
   ]
  },
  {
   "cell_type": "code",
   "execution_count": 99,
   "metadata": {},
   "outputs": [
    {
     "name": "stdout",
     "output_type": "stream",
     "text": [
      "[0, 1, 2, 3, 4, 5, 6, 7, 8, 9]\n",
      "{0: 0, 1: 1, 4: 2, 9: 3, 16: 4, 25: 5, 36: 6, 49: 7, 64: 8, 81: 9}\n"
     ]
    }
   ],
   "source": [
    "# 2.B\n",
    "\n",
    "numbers = list(range(10))\n",
    "sqrt = {(i**2):i for i in numbers}\n",
    "\n",
    "print(numbers)\n",
    "print(sqrt)"
   ]
  },
  {
   "cell_type": "code",
   "execution_count": 102,
   "metadata": {},
   "outputs": [
    {
     "name": "stdout",
     "output_type": "stream",
     "text": [
      "[2, 3, 4, 5, 6, 7, 3, 4, 5, 6, 7, 8, 4, 5, 6, 7, 8, 9, 5, 6, 7, 8, 9, 10, 6, 7, 8, 9, 10, 11, 7, 8, 9, 10, 11, 12]\n"
     ]
    }
   ],
   "source": [
    "# 3.A\n",
    "\n",
    "dice_rolls = [(i+x) for i in range(1,7) for x in range(1,7)]\n",
    "\n",
    "print(dice_rolls)\n",
    "\n",
    "chance = []"
   ]
  },
  {
   "cell_type": "code",
   "execution_count": null,
   "metadata": {},
   "outputs": [],
   "source": []
  }
 ],
 "metadata": {
  "kernelspec": {
   "display_name": "Python 3 (ipykernel)",
   "language": "python",
   "name": "python3"
  },
  "language_info": {
   "codemirror_mode": {
    "name": "ipython",
    "version": 3
   },
   "file_extension": ".py",
   "mimetype": "text/x-python",
   "name": "python",
   "nbconvert_exporter": "python",
   "pygments_lexer": "ipython3",
   "version": "3.7.6"
  }
 },
 "nbformat": 4,
 "nbformat_minor": 4
}
