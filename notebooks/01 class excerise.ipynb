{
 "cells": [
  {
   "cell_type": "markdown",
   "id": "3890cb5e-f3d3-4446-9ad0-ad283d222938",
   "metadata": {},
   "source": [
    "# Class exercise 1\n",
    "\n",
    "![](https://miro.medium.com/max/1266/1*Pb8oEA1nGIONsSJk7QSVzg.png)"
   ]
  },
  {
   "cell_type": "code",
   "execution_count": 4,
   "id": "0ef1659c-116c-4dc3-bf25-008f5a331ffb",
   "metadata": {
    "tags": []
   },
   "outputs": [
    {
     "name": "stdin",
     "output_type": "stream",
     "text": [
      "Input first number 4\n",
      "Input second number 3\n"
     ]
    },
    {
     "data": {
      "text/plain": [
       "12"
      ]
     },
     "execution_count": 4,
     "metadata": {},
     "output_type": "execute_result"
    }
   ],
   "source": [
    "x = int(input(\"Input first number\"))\n",
    "y = int(input(\"Input second number\"))\n",
    "x * y\n"
   ]
  },
  {
   "cell_type": "code",
   "execution_count": null,
   "id": "32a46a01-94d7-4564-b4a5-5267cde678a8",
   "metadata": {},
   "outputs": [],
   "source": []
  },
  {
   "cell_type": "code",
   "execution_count": null,
   "id": "b8c81833-e462-44f3-872d-db231fbabddf",
   "metadata": {},
   "outputs": [],
   "source": []
  }
 ],
 "metadata": {
  "kernelspec": {
   "display_name": "Python 3 (ipykernel)",
   "language": "python",
   "name": "python3"
  },
  "language_info": {
   "codemirror_mode": {
    "name": "ipython",
    "version": 3
   },
   "file_extension": ".py",
   "mimetype": "text/x-python",
   "name": "python",
   "nbconvert_exporter": "python",
   "pygments_lexer": "ipython3",
   "version": "3.10.5"
  }
 },
 "nbformat": 4,
 "nbformat_minor": 5
}
